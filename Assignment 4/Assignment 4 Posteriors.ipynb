{
 "cells": [
  {
   "cell_type": "code",
   "execution_count": 294,
   "id": "5c8940df",
   "metadata": {},
   "outputs": [],
   "source": [
    "import pandas as pd\n",
    "import numpy as np\n",
    "import matplotlib.pyplot as plt"
   ]
  },
  {
   "cell_type": "code",
   "execution_count": 295,
   "id": "4fb862a0",
   "metadata": {},
   "outputs": [],
   "source": [
    "data = pd.read_csv(\"dream_fluctHeads_4.csv\")"
   ]
  },
  {
   "cell_type": "code",
   "execution_count": 296,
   "id": "90a89004",
   "metadata": {},
   "outputs": [],
   "source": [
    "data = data.iloc[:, 1:4]"
   ]
  },
  {
   "cell_type": "code",
   "execution_count": 297,
   "id": "c3d9a240",
   "metadata": {},
   "outputs": [
    {
     "data": {
      "text/html": [
       "<div>\n",
       "<style scoped>\n",
       "    .dataframe tbody tr th:only-of-type {\n",
       "        vertical-align: middle;\n",
       "    }\n",
       "\n",
       "    .dataframe tbody tr th {\n",
       "        vertical-align: top;\n",
       "    }\n",
       "\n",
       "    .dataframe thead th {\n",
       "        text-align: right;\n",
       "    }\n",
       "</style>\n",
       "<table border=\"1\" class=\"dataframe\">\n",
       "  <thead>\n",
       "    <tr style=\"text-align: right;\">\n",
       "      <th></th>\n",
       "      <th>parlogA</th>\n",
       "      <th>parlogK</th>\n",
       "      <th>parw</th>\n",
       "    </tr>\n",
       "  </thead>\n",
       "  <tbody>\n",
       "    <tr>\n",
       "      <th>0</th>\n",
       "      <td>0.330892</td>\n",
       "      <td>-1.568942</td>\n",
       "      <td>1.206979</td>\n",
       "    </tr>\n",
       "    <tr>\n",
       "      <th>1</th>\n",
       "      <td>0.039206</td>\n",
       "      <td>-2.701361</td>\n",
       "      <td>1.529856</td>\n",
       "    </tr>\n",
       "    <tr>\n",
       "      <th>2</th>\n",
       "      <td>-0.370705</td>\n",
       "      <td>-2.111617</td>\n",
       "      <td>2.815499</td>\n",
       "    </tr>\n",
       "    <tr>\n",
       "      <th>3</th>\n",
       "      <td>-0.111250</td>\n",
       "      <td>-1.803263</td>\n",
       "      <td>2.146183</td>\n",
       "    </tr>\n",
       "    <tr>\n",
       "      <th>4</th>\n",
       "      <td>-0.229066</td>\n",
       "      <td>-2.416800</td>\n",
       "      <td>2.456683</td>\n",
       "    </tr>\n",
       "    <tr>\n",
       "      <th>...</th>\n",
       "      <td>...</td>\n",
       "      <td>...</td>\n",
       "      <td>...</td>\n",
       "    </tr>\n",
       "    <tr>\n",
       "      <th>1435</th>\n",
       "      <td>-0.456195</td>\n",
       "      <td>-1.851670</td>\n",
       "      <td>2.958540</td>\n",
       "    </tr>\n",
       "    <tr>\n",
       "      <th>1436</th>\n",
       "      <td>0.162198</td>\n",
       "      <td>-1.922354</td>\n",
       "      <td>1.513598</td>\n",
       "    </tr>\n",
       "    <tr>\n",
       "      <th>1437</th>\n",
       "      <td>0.278089</td>\n",
       "      <td>-2.971768</td>\n",
       "      <td>1.384366</td>\n",
       "    </tr>\n",
       "    <tr>\n",
       "      <th>1438</th>\n",
       "      <td>-0.110210</td>\n",
       "      <td>-1.673898</td>\n",
       "      <td>2.236898</td>\n",
       "    </tr>\n",
       "    <tr>\n",
       "      <th>1439</th>\n",
       "      <td>0.142327</td>\n",
       "      <td>-2.809739</td>\n",
       "      <td>2.438336</td>\n",
       "    </tr>\n",
       "  </tbody>\n",
       "</table>\n",
       "<p>1440 rows × 3 columns</p>\n",
       "</div>"
      ],
      "text/plain": [
       "       parlogA   parlogK      parw\n",
       "0     0.330892 -1.568942  1.206979\n",
       "1     0.039206 -2.701361  1.529856\n",
       "2    -0.370705 -2.111617  2.815499\n",
       "3    -0.111250 -1.803263  2.146183\n",
       "4    -0.229066 -2.416800  2.456683\n",
       "...        ...       ...       ...\n",
       "1435 -0.456195 -1.851670  2.958540\n",
       "1436  0.162198 -1.922354  1.513598\n",
       "1437  0.278089 -2.971768  1.384366\n",
       "1438 -0.110210 -1.673898  2.236898\n",
       "1439  0.142327 -2.809739  2.438336\n",
       "\n",
       "[1440 rows x 3 columns]"
      ]
     },
     "execution_count": 297,
     "metadata": {},
     "output_type": "execute_result"
    }
   ],
   "source": [
    "data"
   ]
  },
  {
   "cell_type": "code",
   "execution_count": 298,
   "id": "1edf2866",
   "metadata": {},
   "outputs": [],
   "source": [
    "data = data.iloc[-1000:,:]"
   ]
  },
  {
   "cell_type": "code",
   "execution_count": 299,
   "id": "b5320927",
   "metadata": {},
   "outputs": [
    {
     "data": {
      "text/html": [
       "<div>\n",
       "<style scoped>\n",
       "    .dataframe tbody tr th:only-of-type {\n",
       "        vertical-align: middle;\n",
       "    }\n",
       "\n",
       "    .dataframe tbody tr th {\n",
       "        vertical-align: top;\n",
       "    }\n",
       "\n",
       "    .dataframe thead th {\n",
       "        text-align: right;\n",
       "    }\n",
       "</style>\n",
       "<table border=\"1\" class=\"dataframe\">\n",
       "  <thead>\n",
       "    <tr style=\"text-align: right;\">\n",
       "      <th></th>\n",
       "      <th>parlogA</th>\n",
       "      <th>parlogK</th>\n",
       "      <th>parw</th>\n",
       "    </tr>\n",
       "  </thead>\n",
       "  <tbody>\n",
       "    <tr>\n",
       "      <th>440</th>\n",
       "      <td>-0.484776</td>\n",
       "      <td>-1.621931</td>\n",
       "      <td>2.163489</td>\n",
       "    </tr>\n",
       "    <tr>\n",
       "      <th>441</th>\n",
       "      <td>0.028113</td>\n",
       "      <td>-2.669458</td>\n",
       "      <td>2.770217</td>\n",
       "    </tr>\n",
       "    <tr>\n",
       "      <th>442</th>\n",
       "      <td>-0.441725</td>\n",
       "      <td>-1.975053</td>\n",
       "      <td>1.775486</td>\n",
       "    </tr>\n",
       "    <tr>\n",
       "      <th>443</th>\n",
       "      <td>-0.410215</td>\n",
       "      <td>-1.953977</td>\n",
       "      <td>1.531485</td>\n",
       "    </tr>\n",
       "    <tr>\n",
       "      <th>444</th>\n",
       "      <td>-0.118469</td>\n",
       "      <td>-1.779242</td>\n",
       "      <td>1.457161</td>\n",
       "    </tr>\n",
       "    <tr>\n",
       "      <th>...</th>\n",
       "      <td>...</td>\n",
       "      <td>...</td>\n",
       "      <td>...</td>\n",
       "    </tr>\n",
       "    <tr>\n",
       "      <th>1435</th>\n",
       "      <td>-0.456195</td>\n",
       "      <td>-1.851670</td>\n",
       "      <td>2.958540</td>\n",
       "    </tr>\n",
       "    <tr>\n",
       "      <th>1436</th>\n",
       "      <td>0.162198</td>\n",
       "      <td>-1.922354</td>\n",
       "      <td>1.513598</td>\n",
       "    </tr>\n",
       "    <tr>\n",
       "      <th>1437</th>\n",
       "      <td>0.278089</td>\n",
       "      <td>-2.971768</td>\n",
       "      <td>1.384366</td>\n",
       "    </tr>\n",
       "    <tr>\n",
       "      <th>1438</th>\n",
       "      <td>-0.110210</td>\n",
       "      <td>-1.673898</td>\n",
       "      <td>2.236898</td>\n",
       "    </tr>\n",
       "    <tr>\n",
       "      <th>1439</th>\n",
       "      <td>0.142327</td>\n",
       "      <td>-2.809739</td>\n",
       "      <td>2.438336</td>\n",
       "    </tr>\n",
       "  </tbody>\n",
       "</table>\n",
       "<p>1000 rows × 3 columns</p>\n",
       "</div>"
      ],
      "text/plain": [
       "       parlogA   parlogK      parw\n",
       "440  -0.484776 -1.621931  2.163489\n",
       "441   0.028113 -2.669458  2.770217\n",
       "442  -0.441725 -1.975053  1.775486\n",
       "443  -0.410215 -1.953977  1.531485\n",
       "444  -0.118469 -1.779242  1.457161\n",
       "...        ...       ...       ...\n",
       "1435 -0.456195 -1.851670  2.958540\n",
       "1436  0.162198 -1.922354  1.513598\n",
       "1437  0.278089 -2.971768  1.384366\n",
       "1438 -0.110210 -1.673898  2.236898\n",
       "1439  0.142327 -2.809739  2.438336\n",
       "\n",
       "[1000 rows x 3 columns]"
      ]
     },
     "execution_count": 299,
     "metadata": {},
     "output_type": "execute_result"
    }
   ],
   "source": [
    "data"
   ]
  },
  {
   "cell_type": "code",
   "execution_count": 300,
   "id": "e96a199b",
   "metadata": {},
   "outputs": [
    {
     "data": {
      "image/png": "[encoded data removed]",
      "text/plain": [
       "<Figure size 576x432 with 1 Axes>"
      ]
     },
     "metadata": {
      "needs_background": "light"
     },
     "output_type": "display_data"
    }
   ],
   "source": [
    "plt.figure(figsize=(8, 6))\n",
    "plt.title(\"Posterior of the parameters\", fontsize = 16)\n",
    "plt.hist(data[\"parlogA\"], bins=30)\n",
    "plt.xlabel(\"Parameter value of log(A)\", fontsize = 15)\n",
    "plt.ylabel(\"Frequency\", fontsize = 15)\n",
    "plt.show()"
   ]
  },
  {
   "cell_type": "code",
   "execution_count": 301,
   "id": "ce34d2bf",
   "metadata": {},
   "outputs": [
    {
     "data": {
      "image/png": "[encoded data removed]",
      "text/plain": [
       "<Figure size 576x432 with 1 Axes>"
      ]
     },
     "metadata": {
      "needs_background": "light"
     },
     "output_type": "display_data"
    }
   ],
   "source": [
    "plt.figure(figsize=(8, 6))\n",
    "plt.title(\"Posterior of the parameters\", fontsize = 16)\n",
    "plt.hist(data[\"parlogK\"], bins=30)\n",
    "plt.xlabel(\"Parameter value of log(K)\", fontsize = 15)\n",
    "plt.ylabel(\"Frequency\", fontsize = 15)\n",
    "plt.show()"
   ]
  },
  {
   "cell_type": "code",
   "execution_count": 313,
   "id": "64e77fb8",
   "metadata": {},
   "outputs": [
    {
     "data": {
      "image/png": "[encoded data removed]",
      "text/plain": [
       "<Figure size 576x432 with 1 Axes>"
      ]
     },
     "metadata": {
      "needs_background": "light"
     },
     "output_type": "display_data"
    }
   ],
   "source": [
    "plt.figure(figsize=(8, 6))\n",
    "plt.title(\"Posterior of the parameters\", fontsize = 16)\n",
    "plt.hist(data[\"parw\"], bins=16)\n",
    "plt.xlabel(\"Parameter value of omega (frequency)\", fontsize = 15)\n",
    "plt.ylabel(\"Frequency\", fontsize = 15)\n",
    "plt.show()"
   ]
  },
  {
   "cell_type": "code",
   "execution_count": 303,
   "id": "1e30737e",
   "metadata": {},
   "outputs": [],
   "source": [
    "### Test how your results change by randomly removing 50% of the measurement points.\n",
    "\n",
    "data_removed = pd.read_csv(\"dream_fluctHeads_4_reduced.csv\")"
   ]
  },
  {
   "cell_type": "code",
   "execution_count": 304,
   "id": "d2f6bc2e",
   "metadata": {},
   "outputs": [],
   "source": [
    "data_removed = data_removed.iloc[:, 1:4]"
   ]
  },
  {
   "cell_type": "code",
   "execution_count": 305,
   "id": "7561d225",
   "metadata": {},
   "outputs": [
    {
     "data": {
      "text/html": [
       "<div>\n",
       "<style scoped>\n",
       "    .dataframe tbody tr th:only-of-type {\n",
       "        vertical-align: middle;\n",
       "    }\n",
       "\n",
       "    .dataframe tbody tr th {\n",
       "        vertical-align: top;\n",
       "    }\n",
       "\n",
       "    .dataframe thead th {\n",
       "        text-align: right;\n",
       "    }\n",
       "</style>\n",
       "<table border=\"1\" class=\"dataframe\">\n",
       "  <thead>\n",
       "    <tr style=\"text-align: right;\">\n",
       "      <th></th>\n",
       "      <th>parlogA</th>\n",
       "      <th>parlogK</th>\n",
       "      <th>parw</th>\n",
       "    </tr>\n",
       "  </thead>\n",
       "  <tbody>\n",
       "    <tr>\n",
       "      <th>0</th>\n",
       "      <td>0.198647</td>\n",
       "      <td>-1.288097</td>\n",
       "      <td>2.456683</td>\n",
       "    </tr>\n",
       "    <tr>\n",
       "      <th>1</th>\n",
       "      <td>-0.111250</td>\n",
       "      <td>-2.416800</td>\n",
       "      <td>1.800851</td>\n",
       "    </tr>\n",
       "    <tr>\n",
       "      <th>2</th>\n",
       "      <td>0.330892</td>\n",
       "      <td>-1.568942</td>\n",
       "      <td>2.815499</td>\n",
       "    </tr>\n",
       "    <tr>\n",
       "      <th>3</th>\n",
       "      <td>-0.229066</td>\n",
       "      <td>-2.701361</td>\n",
       "      <td>1.529856</td>\n",
       "    </tr>\n",
       "    <tr>\n",
       "      <th>4</th>\n",
       "      <td>0.039206</td>\n",
       "      <td>-2.111617</td>\n",
       "      <td>1.206979</td>\n",
       "    </tr>\n",
       "    <tr>\n",
       "      <th>...</th>\n",
       "      <td>...</td>\n",
       "      <td>...</td>\n",
       "      <td>...</td>\n",
       "    </tr>\n",
       "    <tr>\n",
       "      <th>1579</th>\n",
       "      <td>0.070330</td>\n",
       "      <td>-2.050709</td>\n",
       "      <td>2.581274</td>\n",
       "    </tr>\n",
       "    <tr>\n",
       "      <th>1580</th>\n",
       "      <td>-0.410856</td>\n",
       "      <td>-2.023270</td>\n",
       "      <td>2.577715</td>\n",
       "    </tr>\n",
       "    <tr>\n",
       "      <th>1581</th>\n",
       "      <td>-0.485694</td>\n",
       "      <td>-1.101549</td>\n",
       "      <td>2.626084</td>\n",
       "    </tr>\n",
       "    <tr>\n",
       "      <th>1582</th>\n",
       "      <td>-0.141989</td>\n",
       "      <td>-1.759077</td>\n",
       "      <td>2.782811</td>\n",
       "    </tr>\n",
       "    <tr>\n",
       "      <th>1583</th>\n",
       "      <td>-0.447846</td>\n",
       "      <td>-1.587082</td>\n",
       "      <td>2.162602</td>\n",
       "    </tr>\n",
       "  </tbody>\n",
       "</table>\n",
       "<p>1584 rows × 3 columns</p>\n",
       "</div>"
      ],
      "text/plain": [
       "       parlogA   parlogK      parw\n",
       "0     0.198647 -1.288097  2.456683\n",
       "1    -0.111250 -2.416800  1.800851\n",
       "2     0.330892 -1.568942  2.815499\n",
       "3    -0.229066 -2.701361  1.529856\n",
       "4     0.039206 -2.111617  1.206979\n",
       "...        ...       ...       ...\n",
       "1579  0.070330 -2.050709  2.581274\n",
       "1580 -0.410856 -2.023270  2.577715\n",
       "1581 -0.485694 -1.101549  2.626084\n",
       "1582 -0.141989 -1.759077  2.782811\n",
       "1583 -0.447846 -1.587082  2.162602\n",
       "\n",
       "[1584 rows x 3 columns]"
      ]
     },
     "execution_count": 305,
     "metadata": {},
     "output_type": "execute_result"
    }
   ],
   "source": [
    "data_removed"
   ]
  },
  {
   "cell_type": "code",
   "execution_count": 306,
   "id": "d106a92e",
   "metadata": {},
   "outputs": [],
   "source": [
    "data_removed = data_removed.iloc[-1000:,:]"
   ]
  },
  {
   "cell_type": "code",
   "execution_count": 307,
   "id": "99ff2094",
   "metadata": {},
   "outputs": [
    {
     "data": {
      "text/html": [
       "<div>\n",
       "<style scoped>\n",
       "    .dataframe tbody tr th:only-of-type {\n",
       "        vertical-align: middle;\n",
       "    }\n",
       "\n",
       "    .dataframe tbody tr th {\n",
       "        vertical-align: top;\n",
       "    }\n",
       "\n",
       "    .dataframe thead th {\n",
       "        text-align: right;\n",
       "    }\n",
       "</style>\n",
       "<table border=\"1\" class=\"dataframe\">\n",
       "  <thead>\n",
       "    <tr style=\"text-align: right;\">\n",
       "      <th></th>\n",
       "      <th>parlogA</th>\n",
       "      <th>parlogK</th>\n",
       "      <th>parw</th>\n",
       "    </tr>\n",
       "  </thead>\n",
       "  <tbody>\n",
       "    <tr>\n",
       "      <th>584</th>\n",
       "      <td>0.075923</td>\n",
       "      <td>-1.972183</td>\n",
       "      <td>2.827699</td>\n",
       "    </tr>\n",
       "    <tr>\n",
       "      <th>585</th>\n",
       "      <td>0.161397</td>\n",
       "      <td>-2.826869</td>\n",
       "      <td>2.032573</td>\n",
       "    </tr>\n",
       "    <tr>\n",
       "      <th>586</th>\n",
       "      <td>0.296486</td>\n",
       "      <td>-1.415171</td>\n",
       "      <td>2.545054</td>\n",
       "    </tr>\n",
       "    <tr>\n",
       "      <th>587</th>\n",
       "      <td>-0.483053</td>\n",
       "      <td>-2.856808</td>\n",
       "      <td>2.384400</td>\n",
       "    </tr>\n",
       "    <tr>\n",
       "      <th>588</th>\n",
       "      <td>0.089537</td>\n",
       "      <td>-1.185593</td>\n",
       "      <td>1.369021</td>\n",
       "    </tr>\n",
       "    <tr>\n",
       "      <th>...</th>\n",
       "      <td>...</td>\n",
       "      <td>...</td>\n",
       "      <td>...</td>\n",
       "    </tr>\n",
       "    <tr>\n",
       "      <th>1579</th>\n",
       "      <td>0.070330</td>\n",
       "      <td>-2.050709</td>\n",
       "      <td>2.581274</td>\n",
       "    </tr>\n",
       "    <tr>\n",
       "      <th>1580</th>\n",
       "      <td>-0.410856</td>\n",
       "      <td>-2.023270</td>\n",
       "      <td>2.577715</td>\n",
       "    </tr>\n",
       "    <tr>\n",
       "      <th>1581</th>\n",
       "      <td>-0.485694</td>\n",
       "      <td>-1.101549</td>\n",
       "      <td>2.626084</td>\n",
       "    </tr>\n",
       "    <tr>\n",
       "      <th>1582</th>\n",
       "      <td>-0.141989</td>\n",
       "      <td>-1.759077</td>\n",
       "      <td>2.782811</td>\n",
       "    </tr>\n",
       "    <tr>\n",
       "      <th>1583</th>\n",
       "      <td>-0.447846</td>\n",
       "      <td>-1.587082</td>\n",
       "      <td>2.162602</td>\n",
       "    </tr>\n",
       "  </tbody>\n",
       "</table>\n",
       "<p>1000 rows × 3 columns</p>\n",
       "</div>"
      ],
      "text/plain": [
       "       parlogA   parlogK      parw\n",
       "584   0.075923 -1.972183  2.827699\n",
       "585   0.161397 -2.826869  2.032573\n",
       "586   0.296486 -1.415171  2.545054\n",
       "587  -0.483053 -2.856808  2.384400\n",
       "588   0.089537 -1.185593  1.369021\n",
       "...        ...       ...       ...\n",
       "1579  0.070330 -2.050709  2.581274\n",
       "1580 -0.410856 -2.023270  2.577715\n",
       "1581 -0.485694 -1.101549  2.626084\n",
       "1582 -0.141989 -1.759077  2.782811\n",
       "1583 -0.447846 -1.587082  2.162602\n",
       "\n",
       "[1000 rows x 3 columns]"
      ]
     },
     "execution_count": 307,
     "metadata": {},
     "output_type": "execute_result"
    }
   ],
   "source": [
    "data_removed"
   ]
  },
  {
   "cell_type": "code",
   "execution_count": 308,
   "id": "22a4141c",
   "metadata": {},
   "outputs": [
    {
     "data": {
      "image/png": "[encoded data removed]",
      "text/plain": [
       "<Figure size 576x432 with 1 Axes>"
      ]
     },
     "metadata": {
      "needs_background": "light"
     },
     "output_type": "display_data"
    }
   ],
   "source": [
    "plt.figure(figsize=(8, 6))\n",
    "plt.title(\"Posterior of the parameters (removing 50% of the measurement points)\", fontsize = 16)\n",
    "plt.hist(data_removed[\"parlogA\"], bins=30)\n",
    "plt.xlabel(\"Parameter value of log(A)\", fontsize = 15)\n",
    "plt.ylabel(\"Frequency\", fontsize = 15)\n",
    "plt.show()"
   ]
  },
  {
   "cell_type": "code",
   "execution_count": 309,
   "id": "ffc1f32a",
   "metadata": {},
   "outputs": [
    {
     "data": {
      "image/png": "[encoded data removed]",
      "text/plain": [
       "<Figure size 576x432 with 1 Axes>"
      ]
     },
     "metadata": {
      "needs_background": "light"
     },
     "output_type": "display_data"
    }
   ],
   "source": [
    "plt.figure(figsize=(8, 6))\n",
    "plt.title(\"Posterior of the parameters (removing 50% of the measurement points)\", fontsize = 16)\n",
    "plt.hist(data_removed[\"parlogK\"], bins=30)\n",
    "plt.xlabel(\"Parameter value of log(K)\", fontsize = 15)\n",
    "plt.ylabel(\"Frequency\", fontsize = 15)\n",
    "plt.show()"
   ]
  },
  {
   "cell_type": "code",
   "execution_count": 310,
   "id": "5623b50c",
   "metadata": {},
   "outputs": [
    {
     "data": {
      "image/png": "[encoded data removed]",
      "text/plain": [
       "<Figure size 576x360 with 1 Axes>"
      ]
     },
     "metadata": {
      "needs_background": "light"
     },
     "output_type": "display_data"
    }
   ],
   "source": [
    "plt.figure(figsize=(8, 5))\n",
    "plt.title(\"Posterior of the parameters (removing 50% of the measurement points)\", fontsize = 16)\n",
    "plt.hist(data_removed[\"parw\"], bins=16)\n",
    "plt.xlabel(\"Parameter value of omega (frequency)\", fontsize = 15)\n",
    "plt.ylabel(\"Frequency\", fontsize = 15)\n",
    "plt.show()"
   ]
  },
  {
   "cell_type": "code",
   "execution_count": null,
   "id": "057b0a30",
   "metadata": {},
   "outputs": [],
   "source": []
  }
 ],
 "metadata": {
  "kernelspec": {
   "display_name": "Python 3",
   "language": "python",
   "name": "python3"
  },
  "language_info": {
   "codemirror_mode": {
    "name": "ipython",
    "version": 3
   },
   "file_extension": ".py",
   "mimetype": "text/x-python",
   "name": "python",
   "nbconvert_exporter": "python",
   "pygments_lexer": "ipython3",
   "version": "3.8.8"
  }
 },
 "nbformat": 4,
 "nbformat_minor": 5
}
